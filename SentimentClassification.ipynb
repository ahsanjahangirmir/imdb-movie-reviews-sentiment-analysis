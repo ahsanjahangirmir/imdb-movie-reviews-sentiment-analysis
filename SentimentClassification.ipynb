{
 "cells": [
  {
   "cell_type": "markdown",
   "id": "03373c37",
   "metadata": {
    "id": "03373c37"
   },
   "source": [
    "### Introduction\n",
    "\n",
    "In this project, I will be implementing a naive Sentiment Analysis model using Logistic Regression models created from scratch using NumPy as well as Sci-kit APIs. \n"
   ]
  },
  {
   "cell_type": "markdown",
   "id": "b5216e2a",
   "metadata": {
    "id": "b5216e2a",
    "tags": [
     "parameters"
    ]
   },
   "source": [
    "## Logistic Regression\n",
    "\n",
    "#### Dataset\n",
    "\n",
    "The core IMDB movie reviews dataset contains 50,000 reviews split evenly into 25k train and 25k test sets. The overall distribution of labels is balanced (25k pos and 25k neg).\n",
    "\n",
    "There are two top-level directories `[train/, test/]` corresponding to the training and test sets. Each contains `[pos/, neg/]` directories for the reviews with binary labels positive and negative. Within these directories, reviews are stored in text files named following the convention `<id>_<rating>.txt` where `id` is a unique id and `rating` is the star rating for that review on a 1-10 scale."
   ]
  },
  {
   "cell_type": "code",
   "execution_count": 122,
   "id": "c6ec0d6e",
   "metadata": {
    "id": "c6ec0d6e"
   },
   "outputs": [
    {
     "name": "stdout",
     "output_type": "stream",
     "text": [
      "Shape of the training dataset: (25000,)\n",
      "Shape of the test dataset: (25000,)\n",
      "Shape of the training labels: (25000,)\n",
      "Shape of the test labels: (25000,)\n"
     ]
    }
   ],
   "source": [
    "import numpy as np\n",
    "import matplotlib.pyplot as plt\n",
    "import seaborn as sns\n",
    "import pandas as pd\n",
    "import random\n",
    "import os\n",
    "\n",
    "def load_data(path):\n",
    "    \"\"\"\n",
    "    Loads the data from the given path.\n",
    "    Returns a list of reviews (as strings) and their corresponding labels (1 for positive, 0 for negative).\n",
    "    \"\"\"\n",
    "    reviews = []\n",
    "    labels = []\n",
    "    \n",
    "    for label_type in ['pos', 'neg']:\n",
    "        \n",
    "        dir_name = os.path.join(path, label_type)\n",
    "        \n",
    "        for fname in os.listdir(dir_name):\n",
    "        \n",
    "            with open(os.path.join(dir_name, fname), 'r', encoding='utf-8') as file:    \n",
    "                reviews.append(file.read())\n",
    "            \n",
    "            if label_type == 'pos':\n",
    "                labels.append(1)\n",
    "            else:\n",
    "                labels.append(0)\n",
    "    \n",
    "    return np.array(reviews), np.array(labels)\n",
    "\n",
    "train_data, train_labels = load_data('Task2/train')\n",
    "test_data, test_labels = load_data('Task2/train')\n",
    "\n",
    "print(f\"Shape of the training dataset: {train_data.shape}\")\n",
    "print(f\"Shape of the test dataset: {test_data.shape}\")\n",
    "print(f\"Shape of the training labels: {train_labels.shape}\")\n",
    "print(f\"Shape of the test labels: {test_labels.shape}\")\n"
   ]
  },
  {
   "cell_type": "markdown",
   "id": "66384c63",
   "metadata": {
    "id": "66384c63"
   },
   "source": [
    "#### Preprocessing\n",
    "\n",
    "We will remove the stop words, punctuation marks, special characters and convert the text to lower case and check for any NAN values. "
   ]
  },
  {
   "cell_type": "code",
   "execution_count": 123,
   "id": "d8fe2f33",
   "metadata": {
    "id": "d8fe2f33",
    "scrolled": false
   },
   "outputs": [
    {
     "name": "stdout",
     "output_type": "stream",
     "text": [
      "No NAN values in the training set.\n",
      "No NAN values in the test set.\n",
      "['my comments may bit spoiler worth stop care enoughbr br saving grace titled a paperthin excuse old british women get high onscreen this film dumb the incidental music annoyance obvious hackneyed tunes sporadically pop comment narrative spirit sky example  oh i get it this basically cheech chong movie made credible stodgy english setting brenda blethyns overwhelming power inflict emotion audience using voice alone i could literally hear folks high times magazine receiving jollies enormous buds litter picture worst scene easy brenda attempts peddle illicit wares street london blaring white dresssuit not funny not original not interesting not good movie the 72 rating result zealots overvoting dont waste time'\n",
      " 'the saucy misadventures four au pairs arrive london day early 1970s theres swedish girl danish german chinese the story contrives get clothes them involve carry ontype humour couple various misfits british film tv culture time including man about house star richard osullivan future coronation street rogue johnny briggs horror film stalwart ferdy mayne playing sheik theres pretty risqué amount female nudity display like kind thing but obviously nothing hardcorebr br most film pretty thin inconsequential girls stereotypes german anita especially suffers kind infantalising disorder  moron obsessed colour tv acts like kind uninhibited child  dresses deliberately show private parts another serious film would psychiatric case the interesting section film involves swedish girl taken club london dodgy types still trying swing seduced middleaged rocker losing virginity realising scene her these sequences energy point intriguing film weve ended with promiscuity dregs music business upper classes live soulless seedy lives theres fine turn john standing impotent public school roué the strangest stories chinese girl future cannibal film veteran me me lay getting childish piano prodigy employer falling mutually love leaving middle night good reason all except orientalist notion chinese birds inscrutable aint they the film pretty demeaning women characters theres smattering homophobia dialogue one characterisations the end striking maynes sheik earthly reason except end film somehow whisks girls away arab kingdom looks world like future white slave trade delighted aboutbr br stuff nonsense part then directed fair amount skill veteran val guest puts piece filmmaking notch 70s brit sexploitation flicks'\n",
      " 'oh italians assuming movies aristocrats weird fetishes castles drowned gothic atmosphere backstabbing relatives trying get hands inheritance inherently interesting all if seen one film type basically seen the mst3k favorite screaming skull fits mold tooand the night evelyn came out grave formulaic bythenumbers dull hell even luscious erika blanc put waste herebr br zero10br br '\n",
      " 'eight academy nominations its beyond belief i think bad year  even hollywood standards with huston director jack nicholson kathleen turner leads i probably would swallowed bait watched anyway oscar nominations really sold me i feel distinctly cheated resultbr br so black comedy it can anyone tell humour prizzis honor its certainly tasteless the shooting head policemans wife another supposedly comic interlude intended farce mafia life exception joke your favourite mexican cigars which i imagine old joke americans officially forbidden buying anything cuban last 50 years i failed spot anything comic nature  i try there lot mafia cliché cliché constitute humour bookbr br is romantic comedy sorts never the characters relationships completely incredible shallow par ben afleck jennifer lopez giglibr br is cleverly devised parody mafia not million years the plot pointlessly absurd rather comically absurd usually feel really bad and cheap mafia movie it feels like homage parodybr br with onedimensional characters little way humour written them actors left dodgy accents pulling faces well enough even face pulled master comic facial expression jack nicholson repleat puffed top lip  meant parody brandos padded jowls the godfather oh who cares i know is funnybr br throw slow plodding direction this film drags 2 hours hopelessly daft clichéd dialogue as you remember camora well were far bigger well track wherever go clichéd mannerisms reaching fast forward button say capiche prizzis honor far hustons masterpiece rather poor last work its definitely one work great directors canon given concrete overcoat tossed hudson river'\n",
      " 'not i dislike childrens movies tearjerker redeeming qualities mj fox perfect voice stuart rest talent wasted hugh laurie amazingly funny given chance movie it´s sugarcoated sugar would hardly appeal anyone 7 years age see toy story monsters inc shrek instead 310']\n"
     ]
    }
   ],
   "source": [
    "import string\n",
    "import re\n",
    "\n",
    "def getWords(f):\n",
    "\n",
    "    with open(f, 'r', encoding = 'ISO-8859-1') as file:\n",
    "        return [word.strip() for word in file.readlines()]\n",
    "\n",
    "stop_words = getWords('Task2/stop_words.txt')\n",
    "negative_words = getWords('Task2/negative_words.txt')\n",
    "positive_words = getWords('Task2/positive_words.txt')\n",
    "\n",
    "def remove_stop_words(review, stopWordList = stop_words):\n",
    "    return ' '.join(word for word in review.split() if word not in stopWordList)\n",
    "\n",
    "def remove_punctuation(text):\n",
    "    return ''.join(ch for ch in text if ch not in string.punctuation)\n",
    "\n",
    "train_data = np.array([remove_stop_words(review) for review in train_data])\n",
    "test_data = np.array([remove_stop_words(review) for review in test_data])\n",
    "\n",
    "train_data = np.char.lower(train_data)\n",
    "test_data = np.char.lower(test_data)\n",
    "\n",
    "train_data = np.array([remove_punctuation(text) for text in train_data])\n",
    "test_data = np.array([remove_punctuation(text) for text in test_data])\n",
    "\n",
    "train_nan_indices = np.where(pd.isnull(train_data))[0]\n",
    "test_nan_indices = np.where(pd.isnull(test_data))[0]\n",
    "\n",
    "if len(train_nan_indices) > 0:\n",
    "\n",
    "    print(f\"There are {len(train_nan_indices)} NAN values in the training dataset at indices: {train_nan_indices}\")\n",
    "\n",
    "else: \n",
    "    \n",
    "    print(\"No NAN values in the training set.\")\n",
    "    \n",
    "if len(test_nan_indices) > 0:\n",
    "\n",
    "    print(f\"There are {len(test_nan_indices)} NAN values in the test dataset at indices: {test_nan_indices}\")\n",
    "\n",
    "else:\n",
    "    \n",
    "    print(\"No NAN values in the test set.\")\n",
    "    \n",
    "print(train_data[-5:])"
   ]
  },
  {
   "cell_type": "markdown",
   "id": "257b819c",
   "metadata": {
    "id": "257b819c"
   },
   "source": [
    "#### Feature Extraction\n",
    "\n",
    "In the feature extraction step we need to represent each review by the 2 features $x^{(1)}$: count of positive words, and $x^{(2)}$: count of negative words, and a class label $y$ as shown in the table below:\n",
    "\n",
    "| Feature | Definition | Comment |\n",
    "| --- | --- | --- |\n",
    "| $x^{(1)}$ | count(positive words) ∈ review | Positive lexicon is provided |\n",
    "| $x^{(2)}$ | count(negative words) ∈ review | Negative lexicon is provided |\n",
    "| $y$ | 1 if positive, 0 otherwise | Mentioned in directory name |"
   ]
  },
  {
   "cell_type": "code",
   "execution_count": 124,
   "id": "54337fe5",
   "metadata": {
    "id": "54337fe5",
    "scrolled": true
   },
   "outputs": [
    {
     "name": "stdout",
     "output_type": "stream",
     "text": [
      "POSITIVE REVIEW DATAPOINTS\n",
      "\n",
      "\n",
      "Review 1: for movie gets respect sure lot memorable quotes listed gem imagine movie joe piscopo actually funny maureen stapleton scene stealer the moroni character absolute scream watch alan the skipper hale jr police sgt\n",
      " Positive Count: 4\n",
      " Negative Count: 2\n",
      " Label: 1 (Positive)\n",
      "\n",
      "Review 2: bizarre horror movie filled famous faces stolen cristina raines later tvs flamingo road pretty somewhat unstable model gummy smile slated pay attempted suicides guarding gateway hell the scenes raines modeling well captured mood music perfect deborah raffin charming cristinas pal raines moves creepy brooklyn heights brownstone inhabited blind priest top floor things really start cooking the neighbors including fantastically wicked burgess meredith kinky couple sylvia miles  beverly dangelo diabolical lot eli wallach great fun wily police detective the movie nearly crosspollination rosemarys baby the exorcistbut combination based bestseller jeffrey konvitz the sentinel entertainingly spooky full shocks brought well director michael winner mounts thoughtfully downbeat ending skill 12 \n",
      " Positive Count: 14\n",
      " Negative Count: 11\n",
      " Label: 1 (Positive)\n",
      "\n",
      "Review 3: a solid unremarkable film matthau einstein wonderful my favorite part thing would make go way see again wonderful scene physicists playing badmitton i loved sweaters conversation waited robbins retrieve birdie\n",
      " Positive Count: 5\n",
      " Negative Count: 0\n",
      " Label: 1 (Positive)\n",
      "\n",
      "Review 4: its strange feeling sit alone theater occupied parents rollicking kids i felt like instead movie ticket i given nambla membershipbr br based upon thomas rockwells respected book how to eat fried worms starts like childrens story moving new town the new kid fifth grader billy forrester popular start anew making friends never easy especially prospect poindexter adam or erica 4 12 feet giantbr br further complicating things joe bully his freckled face sleeveless shirts daunting he antagonizes kids death ring crackerjack ring rumored kill punched it but immediately no death ring unleashes poison kills eight gradebr br joe axis evil welcome billy smuggling handful slimy worms thermos once discovered billy plays cool swearing eats worms time then throws joes face ewww to win over billy reluctantly bets eat 10 worms fried boiled marinated hot sauce squashed spread peanut butter sandwich each meal dubbed exotic name like radioactive slime delight kids finally live dream microwaving living organismbr br if ever met me know i uncontrollably hearty laugh i felt like creep erupting toddler whining dilly dick hurts but fried worms wonderfully disgusting like grated farrelly brothers film vomitous delightfulbr br writerdirector bob dolman also savvy storyteller to raise stakes worms must consumed 7 pm in addition billy holds dark secret ultrasensitive stomachbr br dolman also keen sense perspective with accuracy draws childrens insecurities tendency exaggerate mundane dilemmasbr br if hyperbolize movie way kids quandaries see essentially war freedomfighter freedomhater use pubescent boys pawns proxy wars learn valuable lesson unity international leaders learn thing two global peacekeeping fried wormsbr br at end film i comforted two chaperoning mothers behind me looked befuddlement agreed that great movie great i register lawful databases\n",
      " Positive Count: 20\n",
      " Negative Count: 23\n",
      " Label: 1 (Positive)\n",
      "\n",
      "Review 5: you probably already know now 5 additional episodes never aired viewed abccom ive watched lot television years possibly favorite show ever its crime beautifully written acted show canceled the actors played laura whit carlos mae damian anya omg steven caseman  incredible natural roles even kids great wonderful show so sad gone of course i wonder reasons canceled there way ill let believe ms moynahans pregnancy anything it it perfect time slot market ive watched episodes abccom  i hope come dvd day thanks reading\n",
      " Positive Count: 7\n",
      " Negative Count: 2\n",
      " Label: 1 (Positive)\n",
      "\n",
      "NEGATIVE REVIEW DATAPOINTS\n",
      "\n",
      "\n",
      "Review 6: working one best shakespeare sources film manages creditable source whilst still appealing wider audiencebr br branagh steals film fishburnes nose theres talented cast good form\n",
      " Positive Count: 4\n",
      " Negative Count: 1\n",
      " Label: 0 (negative)\n",
      "\n",
      "Review 7: welltremors i original started 1990 found movie quite enjoyable watch however proceeded make tremors ii iii trust me movies started going downhill right finished first one mean ass blasters now god capable answering question why gods name would create another one dumpster dives movie tremors iv cannot considered bad movie fact cannot even considered epitome bad movie lives that as attempted sit though it noticed eyes started bleed hoped profusely little girl ring would crawl tv kill me really think dressing people stared movies though were wild west would make movie with exact occurrences better honestly would never suggest buying movie mean cheaper ways find things burn well\n",
      " Positive Count: 7\n",
      " Negative Count: 7\n",
      " Label: 0 (negative)\n",
      "\n",
      "Review 8: ouch this one bit painful sit through it cute amusing premise goes hell there matthew modine almost always pedestrian annoying disappoint one deborah kara unger john neville turned surprisingly decent performances alan bates jennifer tilly among others played way top i know thats way parts written hard blame actors script director schlock if going outrageous characters thats ok gotta good material make work it here run away screaming movie possible\n",
      " Positive Count: 6\n",
      " Negative Count: 7\n",
      " Label: 0 (negative)\n",
      "\n",
      "Review 9: ive seen crappy movies life one must among worst definately bottom 100 material imo isbr br we follow two couples dodds billy bob thornton lonnie earl natasha richardson darlene kirkendalls patrick swayze roy charlize theron candy one car roadtrip renobr br apparently lonnie happy sexlife cheats wife candy whos despirately trying baby roy meanwhile sure sperm ok hes getting checked doctorbr br now i read back dvd girlfriend didnt blurted 20 minutes oh yeah gonna end pregnant husband cant babys spot on movie soooo predictable as well boring and annoying meaningless offensive terriblebr br an example much movie stinks the two couples set big car towards nevada stopped 2 policeofficers stop stopsign the guys know finally bribe two officers case beer not scene pointless important or even relevant movie takes 5 minutes its talk talk talk without ever going somewherebr br i still puke thinking ending though apparently roy isnt problems is father child how many times happen movies try something new the cheated wife ultimately forgives husband best friend affair live happily ever after yuckbr br best scene movie right end couple shots grand canyon why keep camera 90 minutesbr br one would expect cast although thornton really tries cant really blame them writers shame youbr br 110\n",
      " Positive Count: 8\n",
      " Negative Count: 13\n",
      " Label: 0 (negative)\n",
      "\n",
      "Review 10: carriers follows exploits two guys two gals stolen mercedes words road warrior hood hightailing highway beach surfboards strapped top car brian chris pine star trek driving girlfriend bobby piper perabo coyote uglyhas shotgun brians younger brother danny lou taylor pucci fanboys friendnot exactly girlfriendkate emily vancamp the ring 2 occupy backseat this quartet twentysomething characters living nightmare apparently viral pandemicwhich codirectors  coscenarists alex pastor david pastor tell us absolutely nothing abouthas devastated america naturally lack exposition shaves least fifteen minutes would slowed cynical melodrama humans degenerate crisis become worst enemiesbr br this lethal virus gives shingles bleed die most everybody runs around wearing white masks strapped nose mouth thin rubber band initially foursome encounters desperate father frank christopher meloni runaway brideand cute little daughter jodie kiernan shipka land lost blocking highway suv brian swerves around frank tries waylay them process oil pan mercedes ruptures wind foot reluctantly hitch ride frank seal jodie rear suv she wears mask nose mouth speckled blood frank heard doctors curing ailing people hospital head it sadly somebody lied frank the hospital physician giving last couple kids koolaid put misery the cure improve condition everybody else town dead kate tries without success get dial tone every phone frank realizes hope daughter lets heroic quartet appropriate suv take offbr br indeed carriers qualifies relentlessly depressing movie effects pandemic four sympathetic people degenerate homicidal murderers protect themselves they reach country club frolic around golf course another four show suits masks pumpaction shotguns incredibly protagonists manage escape without getting shot brian scare almost falls water floating corpse eventually discover one become infected later run gas brian blocks highway like frank outset danny tries stop pair older christian women driving car danny lies pregnant wife give birth needs help brian throws caution wind blasts away ladies automatic pistol refuse help them brian catches slug leg passenger kills her br br nocarriers beer  pizza movie either laugh laugh humor virtually nonexistent by end 84minute movie heroes turned villains care plight chris pine makes quite impression funloving brian energetic performance reason hang hokum wellknown actress piper perabo relegated inconsequential girlfriend role as bobby makes tragic mistake showing compassion dying little girl pays awful price it testament pines performance change character point putting others essentially pine role gives ability pull oneeighty happygolucky guy heartless guy br br the two directors spanish brothers never let momentum flag since relief sight carriers sinks predictability irréversible cinematographer benoît debie fantastic job widescreen lensing unsavory road trip becomes debie makes look like dynamic film aside lack happy ending closure sense word carriers suffers horribly cynical the scene german shepherd attacks danny conjures suspense even could improved unfortunately pastor brothers scare either much tension suspense by fadeout really care happens anybody\n",
      " Positive Count: 20\n",
      " Negative Count: 51\n",
      " Label: 0 (negative)\n",
      "\n"
     ]
    }
   ],
   "source": [
    "def extract_features(review):\n",
    "    \n",
    "    words = review.split()\n",
    "    positive_count = sum(word in positive_words for word in words)\n",
    "    negative_count = sum(word in negative_words for word in words)\n",
    "    \n",
    "    return positive_count, negative_count\n",
    "\n",
    "\n",
    "positive_indices = np.where(train_labels == 1)[0][:5]\n",
    "negative_indices = np.where(train_labels == 0)[0][:5]\n",
    "\n",
    "counter = 1\n",
    "\n",
    "print(\"POSITIVE REVIEW DATAPOINTS\\n\\n\")\n",
    "\n",
    "for index in positive_indices:\n",
    "    \n",
    "    review = train_data[index]\n",
    "    pos_count, neg_count = extract_features(review)\n",
    "    print(f\"Review {counter}: {review}\\n Positive Count: {pos_count}\\n Negative Count: {neg_count}\\n Label: 1 (Positive)\\n\")\n",
    "    counter += 1\n",
    "    \n",
    "print(\"NEGATIVE REVIEW DATAPOINTS\\n\\n\")\n",
    "    \n",
    "for index in negative_indices:\n",
    "    \n",
    "    review = train_data[index]\n",
    "    pos_count, neg_count = extract_features(review)\n",
    "    print(f\"Review {counter}: {review}\\n Positive Count: {pos_count}\\n Negative Count: {neg_count}\\n Label: 0 (negative)\\n\")\n",
    "    counter += 1\n",
    "    \n",
    "## sahi hai, ab complete data pe apply karna hai extract features \n",
    "\n",
    "x1 = []\n",
    "x2 = []\n",
    "\n",
    "for review in train_data:\n",
    "    \n",
    "    p, n = extract_features(review)\n",
    "    x1.append(p)\n",
    "    x2.append(n)\n",
    "    \n",
    "x1 = np.array(x1)\n",
    "x2 = np.array(x2)\n",
    "\n",
    "t = np.column_stack((train_data, x1, x2, train_labels))\n",
    "\n",
    "x1 = []\n",
    "x2 = []\n",
    "\n",
    "for review in test_data:\n",
    "    \n",
    "    p, n = extract_features(review)\n",
    "    x1.append(p)\n",
    "    x2.append(n)\n",
    "    \n",
    "x1 = np.array(x1)\n",
    "x2 = np.array(x2)\n",
    "\n",
    "test_data = np.column_stack((test_data, x1, x2, test_labels))"
   ]
  },
  {
   "cell_type": "markdown",
   "id": "d8a1f2e2",
   "metadata": {
    "id": "d8a1f2e2"
   },
   "source": [
    "Now we will split our training dataset into 9:1 for training and evaluation. The evaluation dataset will help us finetune the hyperparameters. "
   ]
  },
  {
   "cell_type": "code",
   "execution_count": 125,
   "id": "43b474ff",
   "metadata": {
    "id": "43b474ff",
    "scrolled": true
   },
   "outputs": [
    {
     "name": "stdout",
     "output_type": "stream",
     "text": [
      "(22500, 2)\n",
      "(22500,)\n",
      "(2500, 2)\n",
      "(2500,)\n"
     ]
    }
   ],
   "source": [
    "combined_data = t\n",
    "np.random.shuffle(combined_data)\n",
    "split_idx = int(0.9 * combined_data.shape[0])\n",
    "\n",
    "training_data = combined_data[:split_idx]\n",
    "eval_data = combined_data[split_idx:]\n",
    "\n",
    "training_reviews = training_data[:, 1:3]  \n",
    "training_labels = training_data[:, -1]\n",
    "\n",
    "eval_reviews = eval_data[:, 1:3] \n",
    "eval_labels = eval_data[:, -1]\n",
    "\n",
    "print(training_reviews.shape)\n",
    "print(training_labels.shape)\n",
    "print(eval_reviews.shape)\n",
    "print(eval_labels.shape)"
   ]
  },
  {
   "cell_type": "markdown",
   "id": "331017de",
   "metadata": {
    "id": "331017de"
   },
   "source": [
    "### Implementation from Scratch\n",
    "\n",
    "Now we will reate a class to implement the following methods  to create a fully fledged Logistic Regression model:\n",
    "\n",
    "* `sigmoid(x)`: This is the non-linear \"activation\" function that differentiates Logistic from plain-old Linear Regression.\n",
    "\n",
    "* `cross_entropy_loss(y_true, y_pred)`: This is the loss function that will help us calculate the gradients for updating our model. Since this is a Binary Classification task so we can use the Binary Cross Entropy function.\n",
    "\n",
    "* `fit(x_train, y_train)`:  Gradient Descent algorithm \n",
    "\n",
    "* `predict(x_test)`: predict whether the label is 0 or 1 for test reviews using learned logistic regression (using the decision threshold of 0.5) \n",
    "\n",
    "* `evaluate(y_true, y_pred)` function that calculates classification accuracy, F1 Score and confusion matrix. "
   ]
  },
  {
   "cell_type": "code",
   "execution_count": 179,
   "id": "794011ae",
   "metadata": {
    "id": "794011ae"
   },
   "outputs": [],
   "source": [
    "class LogisticRegression:\n",
    "    \n",
    "    def __init__(self, learning_rate = 0.01, iterations = 1000):\n",
    "        \n",
    "        self.learning_rate = learning_rate\n",
    "        self.iterations = iterations\n",
    "        self.weights = None\n",
    "        self.bias = None\n",
    "        \n",
    "    def sigmoid(self, x):\n",
    "\n",
    "        sig = 1 / (1 + np.exp(-x))\n",
    "        return sig\n",
    "    \n",
    "    def cross_entropy_loss(self, y_true, y_pred):\n",
    "        \n",
    "        m = len(y_true)\n",
    "        epsilon = 1e-15\n",
    "        y_pred = np.maximum(epsilon, y_pred)\n",
    "        y_pred = np.minimum(1 - epsilon, y_pred)\n",
    "        loss = - (y_true * np.log(y_pred) + (1 - y_true) * np.log(1 - y_pred)).mean()\n",
    "\n",
    "        return loss\n",
    "\n",
    "    def fit(self, x_train, y_train):\n",
    "        \n",
    "        n_samples, n_features = x_train.shape\n",
    "        self.weights = np.zeros(n_features)\n",
    "        self.bias = 0\n",
    "        \n",
    "        for i in range(self.iterations):\n",
    "            \n",
    "            y_pred = self.sigmoid(np.dot(x_train, self.weights) + self.bias)\n",
    "            dw = (1 / n_samples) * np.dot(x_train.T, (y_pred - y_train))\n",
    "            db = (1 / n_samples) * np.sum(y_pred - y_train)\n",
    "            \n",
    "            self.weights -= self.learning_rate * dw\n",
    "            self.bias -= self.learning_rate * db\n",
    "    \n",
    "    def predict(self, x_test):\n",
    "        \n",
    "        y_pred = self.sigmoid(np.dot(x_test, self.weights) + self.bias)\n",
    "        pred = [1 if i > 0.5 else 0 for i in y_pred]\n",
    "        \n",
    "        return np.array(pred)\n",
    "    \n",
    "    def evaluate(self, y_true, y_pred):\n",
    "\n",
    "        accuracy = np.mean(y_true == y_pred)\n",
    "        \n",
    "        tp = np.sum((y_true == 1) & (y_pred == 1))\n",
    "        tn = np.sum((y_true == 0) & (y_pred == 0))\n",
    "        fp = np.sum((y_true == 0) & (y_pred == 1))\n",
    "        fn = np.sum((y_true == 1) & (y_pred == 0))\n",
    "\n",
    "        precision = tp / (tp + fp) \n",
    "        recall = tp / (tp + fn) \n",
    "        \n",
    "        f1 = 2 * (precision * recall) / (precision + recall)\n",
    "        \n",
    "        confusion_matrix = np.array([\n",
    "            [tp, fp],\n",
    "            [fn, tn]\n",
    "        ])\n",
    "        \n",
    "        return accuracy, f1, confusion_matrix"
   ]
  },
  {
   "cell_type": "markdown",
   "id": "6b787df1",
   "metadata": {
    "id": "6b787df1"
   },
   "source": [
    "Tuning the hyperparameter .i.e, learning rate and number of epochs to minimize the validation loss."
   ]
  },
  {
   "cell_type": "code",
   "execution_count": 190,
   "id": "2c55a386",
   "metadata": {
    "id": "2c55a386"
   },
   "outputs": [
    {
     "data": {
      "image/png": "[encoded data removed]",
      "text/plain": [
       "<Figure size 640x480 with 1 Axes>"
      ]
     },
     "metadata": {},
     "output_type": "display_data"
    }
   ],
   "source": [
    "lrList = [0.1,0.01,0.05,0.001]\n",
    "iterList = [1000,5000,500,3000]\n",
    "res = []\n",
    "\n",
    "for i in lrList:\n",
    "    for j in iterList:\n",
    "        LR = LogisticRegression(learning_rate=i, iterations=j)\n",
    "        LR.fit(training_reviews.astype(int), training_labels.astype(int))\n",
    "        y_pred = LR.predict(eval_reviews.astype(int))\n",
    "        loss = LR.cross_entropy_loss(eval_labels.astype(int), y_pred.astype(int))\n",
    "        res.append(loss)\n",
    "\n",
    "plt.plot(res)\n",
    "plt.xlabel('Epochs')\n",
    "plt.ylabel('Training Loss')\n",
    "plt.title('Loss vs. Epochs')\n",
    "plt.show()"
   ]
  },
  {
   "cell_type": "markdown",
   "id": "f434bf54",
   "metadata": {
    "id": "f434bf54"
   },
   "source": [
    "Running the model we have created on the test set."
   ]
  },
  {
   "cell_type": "code",
   "execution_count": 189,
   "id": "4b2d1d5a",
   "metadata": {
    "id": "4b2d1d5a"
   },
   "outputs": [
    {
     "name": "stdout",
     "output_type": "stream",
     "text": [
      "Accuracy =  0.72956\n",
      "F1 =  0.733472621910356\n"
     ]
    },
    {
     "data": {
      "text/plain": [
       "Text(0.5, 1.0, 'Confusion Matrix for Logistic Regression Model From Scratch')"
      ]
     },
     "execution_count": 189,
     "metadata": {},
     "output_type": "execute_result"
    },
    {
     "data": {
      "image/png": "[encoded data removed]",
      "text/plain": [
       "<Figure size 640x480 with 2 Axes>"
      ]
     },
     "metadata": {},
     "output_type": "display_data"
    }
   ],
   "source": [
    "bestLR = LogisticRegression(0.001, 5000)\n",
    "x_test = test_data[:, 1:3].astype(int)  \n",
    "y_test = test_data[:, -1].astype(int)\n",
    "bestLR.fit(combined_data[:, 1:3].astype(int), combined_data[:, -1].astype(int))\n",
    "pred = bestLR.predict(x_test)\n",
    "accuracy, f1, confusion = bestLR.evaluate(y_test, pred)\n",
    "\n",
    "print(\"Accuracy = \", accuracy)\n",
    "print(\"F1 = \", f1)\n",
    "sns.heatmap(confusion, annot=True, fmt=\"g\", cmap=\"magma\", xticklabels=['0', '1'], yticklabels=['0', '1'])\n",
    "plt.xlabel('Gold Labels')\n",
    "plt.ylabel('Predicted Labels')\n",
    "plt.title('Confusion Matrix for Logistic Regression Model From Scratch')"
   ]
  },
  {
   "cell_type": "markdown",
   "id": "dc1f0697",
   "metadata": {
    "id": "dc1f0697"
   },
   "source": [
    "### Using Scikit-learn\n",
    "\n",
    "In this part, I will use scikit-learn’s [Logistic Regression](https://scikit-learn.org/stable/modules/generated/sklearn.linear_model.LogisticRegression.html) implementation to train and test the logistic regression on the provided dataset."
   ]
  },
  {
   "cell_type": "code",
   "execution_count": 126,
   "id": "c7893b68",
   "metadata": {
    "id": "c7893b68",
    "scrolled": false
   },
   "outputs": [
    {
     "name": "stdout",
     "output_type": "stream",
     "text": [
      "Accuracy: 0.72568\n",
      "F1 Score: 0.7257896841263495\n",
      "Confusion Matrix:\n",
      "[[9066 3434]\n",
      " [3424 9076]]\n"
     ]
    },
    {
     "data": {
      "text/plain": [
       "Text(0.5, 1.0, 'Confusion Matrix for Logistic Regression Model Using Scikit Learn')"
      ]
     },
     "execution_count": 126,
     "metadata": {},
     "output_type": "execute_result"
    },
    {
     "data": {
      "image/png": "[encoded data removed]",
      "text/plain": [
       "<Figure size 640x480 with 2 Axes>"
      ]
     },
     "metadata": {},
     "output_type": "display_data"
    }
   ],
   "source": [
    "from sklearn.linear_model import LogisticRegression\n",
    "from sklearn.metrics import accuracy_score, f1_score, confusion_matrix\n",
    "\n",
    "X_train = combined_data[:, 1:3].astype(float)\n",
    "y_train = combined_data[:, 3].astype(float) \n",
    "\n",
    "X_test = test_data[:, 1:3].astype(float)\n",
    "y_test = test_data[:, 3].astype(float)\n",
    "\n",
    "ScikitLR = LogisticRegression()\n",
    "ScikitLR.fit(X_train, y_train)\n",
    "\n",
    "y_pred = ScikitLR.predict(X_test)\n",
    "accuracy = accuracy_score(y_test, y_pred)\n",
    "f1 = f1_score(y_test, y_pred)\n",
    "confusion_matrix = confusion_matrix(y_test, y_pred)\n",
    "\n",
    "print(f\"Accuracy: {accuracy}\")\n",
    "print(f\"F1 Score: {f1}\")\n",
    "print(f\"Confusion Matrix:\\n{confusion_matrix}\")\n",
    "\n",
    "sns.heatmap(confusion_matrix, annot=True, fmt=\"g\", cmap=\"magma\", xticklabels=['0', '1'], yticklabels=['0', '1'])\n",
    "plt.xlabel('Gold Labels')\n",
    "plt.ylabel('Predicted Labels')\n",
    "plt.title('Confusion Matrix for Logistic Regression Model Using Scikit Learn')\n"
   ]
  }
 ],
 "metadata": {
  "colab": {
   "provenance": []
  },
  "kernelspec": {
   "display_name": "Python 3 (ipykernel)",
   "language": "python",
   "name": "python3"
  },
  "language_info": {
   "codemirror_mode": {
    "name": "ipython",
    "version": 3
   },
   "file_extension": ".py",
   "mimetype": "text/x-python",
   "name": "python",
   "nbconvert_exporter": "python",
   "pygments_lexer": "ipython3",
   "version": "3.11.4"
  }
 },
 "nbformat": 4,
 "nbformat_minor": 5
}
